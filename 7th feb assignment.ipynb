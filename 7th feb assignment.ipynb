{
 "cells": [
  {
   "cell_type": "code",
   "execution_count": null,
   "id": "3c2eedb0-c642-40c8-b79e-671f211bc0c8",
   "metadata": {},
   "outputs": [],
   "source": [
    "\"\"\"\n",
    "Q1. You are writing code for a company. The requirement of the company is that you create a python\n",
    "function that will check whether the password entered by the user is correct or not. The function should\n",
    "take the password as input and return the string “Valid Password” if the entered password follows the\n",
    "below-given password guidelines else it should return “Invalid Password”.\n",
    "Note: 1. The Password should contain at least two uppercase letters and at least two lowercase letters.\n",
    "2. The Password should contain at least a number and three special characters.\n",
    "3. The length of the password should be 10 characters long.\n",
    "\"\""
   ]
  },
  {
   "cell_type": "code",
   "execution_count": 21,
   "id": "7928fabc-a272-40f9-9909-89841b5df587",
   "metadata": {},
   "outputs": [],
   "source": [
    "def password_validator(passcode):\n",
    "    upper_counter=0\n",
    "    lower_counter=0\n",
    "    digit_counter=0\n",
    "    special_counter=0\n",
    "    special_char=\"!@#$%^&*?/\\|\"\n",
    "    special_count=0\n",
    "    \n",
    "    if len(passcode)<10:\n",
    "        return \"Invalid Passowrd\"\n",
    "    else:\n",
    "        for i in passcode:\n",
    "            if i.isupper():\n",
    "                upper_counter+=1\n",
    "            if i.islower():\n",
    "                lower_counter+=1\n",
    "            if i.isdigit():\n",
    "                digit_counter+=1\n",
    "            for i in special_char:\n",
    "                special_counter+=1\n",
    "        if upper_counter<2 or lower_counter<2 or digit_counter<1 or special_counter<3:\n",
    "            return \"Invalid Password\"\n",
    "        else:\n",
    "            return \"Valid Password\"\n",
    "            "
   ]
  },
  {
   "cell_type": "code",
   "execution_count": 29,
   "id": "f8cd8a5a-86e7-4ba8-955e-3be81e3a1ae5",
   "metadata": {},
   "outputs": [
    {
     "name": "stdout",
     "output_type": "stream",
     "text": [
      "Valid Password\n"
     ]
    }
   ],
   "source": [
    "password=\"ABcd12!@#$\"\n",
    "print(password_validator(password))"
   ]
  },
  {
   "cell_type": "code",
   "execution_count": null,
   "id": "cf03783c-54f8-4e56-9530-3a51b9b6eb81",
   "metadata": {},
   "outputs": [],
   "source": []
  },
  {
   "cell_type": "code",
   "execution_count": null,
   "id": "1060d702-e987-4336-85e4-95b549f3e705",
   "metadata": {},
   "outputs": [],
   "source": [
    "\"\"\"\n",
    "Q2. Solve the below-given questions using at least one of the following:\n",
    "1. Lambda function\n",
    "2. Filter function\n",
    "3. Map function\n",
    "4. List Comprehension\n",
    " #1Check if the string starts with a particular letter\n",
    " #2Check if the string is numeric\n",
    " #3Sort a list of tuples having fruit names and their quantity. [(\"mango\",99),(\"orange\",80), (\"grapes\", 1000)-\n",
    " #4Find the squares of numbers from 1 to 10\n",
    " #5Find the cube root of numbers from 1 to 10\n",
    " #6Check if a given number is even\n",
    " #7Filter odd numbers from the given list.\n",
    "   [1,2,3,4,5,6,7,8,9,10-\n",
    " #8Sort a list of integers into positive and negative integers lists.\n",
    "    [1,2,3,4,5,6,-1,-2,-3,-4,-5,0]\n",
    "\"\"\""
   ]
  },
  {
   "cell_type": "code",
   "execution_count": null,
   "id": "6b360a2f-e7ee-4f18-8d2d-3420564fab66",
   "metadata": {},
   "outputs": [],
   "source": []
  },
  {
   "cell_type": "code",
   "execution_count": 13,
   "id": "241d17f0-5b71-4efe-8e80-bc20f45a289d",
   "metadata": {},
   "outputs": [],
   "source": [
    "#1\n",
    "list1=[\"Manjot\",\"Cherry\",\"Mango\",\"Apple\",\"Miracle\",\"Monstera\"]"
   ]
  },
  {
   "cell_type": "code",
   "execution_count": 14,
   "id": "5d9003c5-9c10-4380-a729-e73fceb49287",
   "metadata": {},
   "outputs": [
    {
     "name": "stdout",
     "output_type": "stream",
     "text": [
      "(True, False, True, False, True, True)\n"
     ]
    }
   ],
   "source": [
    "print(tuple(map(lambda l: l.startswith(\"M\"),list1)))"
   ]
  },
  {
   "cell_type": "code",
   "execution_count": null,
   "id": "c80774c1-dcc3-45cd-9e8d-6c193a2355df",
   "metadata": {},
   "outputs": [],
   "source": []
  },
  {
   "cell_type": "code",
   "execution_count": 15,
   "id": "055d5fe2-749b-490c-be84-bd71d0d13906",
   "metadata": {},
   "outputs": [
    {
     "name": "stdout",
     "output_type": "stream",
     "text": [
      "(True, True, False, True, False, True)\n"
     ]
    }
   ],
   "source": [
    "#2\n",
    "list2=[\"123\",\"432\",\"hello\",\"88\",\"world\",\"42.0\"]\n",
    "list2[5]=list2[5].replace(\".\",\"\")             #For Converting Decimal to Floating Point to Integer\n",
    "print(tuple(map(lambda l: l.isnumeric(),list2)))"
   ]
  },
  {
   "cell_type": "code",
   "execution_count": null,
   "id": "a51e0ee8-f2c0-43d3-bc96-f4c3599a9ee0",
   "metadata": {},
   "outputs": [],
   "source": []
  },
  {
   "cell_type": "code",
   "execution_count": 64,
   "id": "399fce76-535c-4291-a3c7-b3de8f6343e6",
   "metadata": {},
   "outputs": [
    {
     "name": "stdout",
     "output_type": "stream",
     "text": [
      "[('grapes', 1000), ('mango', 99), ('orange', 80)]\n"
     ]
    }
   ],
   "source": [
    "#3\n",
    "list3=[(\"mango\",99),(\"orange\",80), (\"grapes\", 1000)]\n",
    "sorted_list=sorted(list3, key=lambda x: x[1], reverse=True)\n",
    "print(sorted_list)\n",
    "\n",
    "\n"
   ]
  },
  {
   "cell_type": "code",
   "execution_count": null,
   "id": "48d07388-c1d3-4bae-8103-3cf04e8d82b6",
   "metadata": {},
   "outputs": [],
   "source": []
  },
  {
   "cell_type": "code",
   "execution_count": 67,
   "id": "eaaad95b-7209-4743-be9b-9436b77f2b53",
   "metadata": {},
   "outputs": [
    {
     "name": "stdout",
     "output_type": "stream",
     "text": [
      "[1, 4, 9, 16, 25, 36, 49, 64, 81, 100]\n"
     ]
    }
   ],
   "source": [
    "#4\n",
    "list4=[1,2,3,4,5,6,7,8,9,10]\n",
    "print(list(map(lambda x:x**2,list4)))"
   ]
  },
  {
   "cell_type": "code",
   "execution_count": null,
   "id": "d68e6a22-3d7d-416f-a656-9241874f169b",
   "metadata": {},
   "outputs": [],
   "source": []
  },
  {
   "cell_type": "code",
   "execution_count": 69,
   "id": "083fb232-d147-4511-a569-6cbad7c5c519",
   "metadata": {},
   "outputs": [
    {
     "name": "stdout",
     "output_type": "stream",
     "text": [
      "[1.0, 1.2599210498948732, 1.4422495703074083, 1.5874010519681994, 1.7099759466766968, 1.8171205928321397, 1.912931182772389, 2.0, 2.080083823051904, 2.154434690031884]\n"
     ]
    }
   ],
   "source": [
    "#5\n",
    "list5=[1,2,3,4,5,6,7,8,9,10]\n",
    "print(list(map(lambda x:x**(1/3),list5)))"
   ]
  },
  {
   "cell_type": "code",
   "execution_count": null,
   "id": "fcad3d6b-729f-4396-8255-bb388d2945d0",
   "metadata": {},
   "outputs": [],
   "source": []
  },
  {
   "cell_type": "code",
   "execution_count": 70,
   "id": "bedb936b-c33d-4048-b8df-7df8747e3189",
   "metadata": {},
   "outputs": [
    {
     "name": "stdout",
     "output_type": "stream",
     "text": [
      "[2, 4, 6, 8, 10]\n"
     ]
    }
   ],
   "source": [
    "#6\n",
    "list6=[1,2,3,4,5,6,7,8,9,10]\n",
    "print(list(filter(lambda x: x%2==0,list6)))"
   ]
  },
  {
   "cell_type": "code",
   "execution_count": null,
   "id": "0457f818-a32a-4012-89e7-35243b3ebe51",
   "metadata": {},
   "outputs": [],
   "source": []
  },
  {
   "cell_type": "code",
   "execution_count": 72,
   "id": "c7190db8-b174-47c1-bdbf-b2aa74af72c2",
   "metadata": {},
   "outputs": [
    {
     "name": "stdout",
     "output_type": "stream",
     "text": [
      "[1, 3, 5, 7, 9]\n"
     ]
    }
   ],
   "source": [
    "#7\n",
    "list7=[1,2,3,4,5,6,7,8,9,10]\n",
    "print(list(filter(lambda x: x%2!=0,list7)))"
   ]
  },
  {
   "cell_type": "code",
   "execution_count": 118,
   "id": "b90fe8ce-bffd-4d94-910c-20d4d658e33a",
   "metadata": {},
   "outputs": [
    {
     "name": "stdout",
     "output_type": "stream",
     "text": [
      "(-1, -2, -3, -4, -5, 0, 1, 2, 3, 4, 5, 6)\n"
     ]
    }
   ],
   "source": [
    "# 8\n",
    "list8=[1,2,3,4,5,6,-1,-2,-3,-4,-5,0]\n",
    "positive_list=list(x for x in list8 if x>0)\n",
    "negative_list=list(x for x in list8 if x<=0)\n",
    "new_list=negative_list+positive_list\n",
    "print(tuple(new_list))"
   ]
  },
  {
   "cell_type": "code",
   "execution_count": null,
   "id": "14bc6d95-f404-488f-9ded-64cb4a0ad91f",
   "metadata": {},
   "outputs": [],
   "source": []
  }
 ],
 "metadata": {
  "kernelspec": {
   "display_name": "Python 3 (ipykernel)",
   "language": "python",
   "name": "python3"
  },
  "language_info": {
   "codemirror_mode": {
    "name": "ipython",
    "version": 3
   },
   "file_extension": ".py",
   "mimetype": "text/x-python",
   "name": "python",
   "nbconvert_exporter": "python",
   "pygments_lexer": "ipython3",
   "version": "3.10.8"
  }
 },
 "nbformat": 4,
 "nbformat_minor": 5
}
